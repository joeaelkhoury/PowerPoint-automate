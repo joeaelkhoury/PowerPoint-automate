{
  "cells": [
    {
      "cell_type": "code",
      "execution_count": null,
      "id": "37c81dca",
      "metadata": {
        "id": "37c81dca"
      },
      "outputs": [],
      "source": [
        "#Import required libraries\n",
        "import pptx\n",
        "\n",
        "from pptx.util import Cm, Pt, Inches\n",
        "from pptx.enum.shapes import MSO_SHAPE\n",
        "from pptx.enum.chart import XL_CHART_TYPE\n",
        "from pptx.enum.chart import XL_TICK_MARK\n",
        "from pptx.enum.chart import XL_LABEL_POSITION\n",
        "from pptx.enum.chart import XL_LEGEND_POSITION\n",
        "from pptx.chart.data import CategoryChartData\n",
        "from pptx.chart.data import ChartData\n",
        "from pptx.chart.data import XyChartData\n",
        "from pptx.dml.color import RGBColor\n",
        "\n",
        "import pandas as pd\n",
        "import matplotlib.pyplot as plt\n",
        "import win32com.client\n",
        "import os\n"
      ]
    },
    {
      "cell_type": "code",
      "execution_count": null,
      "id": "95397321",
      "metadata": {
        "id": "95397321"
      },
      "outputs": [],
      "source": [
        "#1 Slide 1 - Creating the title slide\n",
        "\n",
        "#1 Create the main Presentation object\n",
        "prs = pptx.Presentation()\n",
        "\n",
        "#2 Choose the slide layout. 0th, since it is the title.\n",
        "title_slide_layout = prs.slide_layouts[0]\n",
        "\n",
        "#3 Add a slide object to the prs object slides with the specified layout as an argument using add_slide\n",
        "slide = prs.slides.add_slide(title_slide_layout)\n",
        "\n",
        "#4 Add a title, tied to the title variable\n",
        "title = slide.shapes.title\n",
        "title.text = \"Here is the title\"\n",
        "\n",
        "#5 Put in the subtitle\n",
        "subtitle = slide.placeholders[1]\n",
        "subtitle.text = \"Made by: joe El khoury \\n xxx xxxx\"\n",
        "\n",
        "\n",
        "#6 Path of image to insert\n",
        "img_path = \"./image_example.jpg\"\n",
        "\n",
        "#7 Insert image1\n",
        "left = top = Cm(0)\n",
        "pic = slide.shapes.add_picture(img_path, left, top)\n",
        "\n",
        "#8 Insert image 2\n",
        "left = Cm(15)\n",
        "top = Cm(2)\n",
        "height = Cm(5)\n",
        "pic = slide.shapes.add_picture(img_path, left, top, height=height)\n",
        "\n",
        "\n",
        "#6 Save the file\n",
        "prs.save(\"./auto_made_pptx.pptx\")\n"
      ]
    },
    {
      "cell_type": "code",
      "execution_count": null,
      "id": "413a58e4",
      "metadata": {
        "id": "413a58e4"
      },
      "outputs": [],
      "source": [
        "#2 Slide 2 - Insert a sentence using placeholders\n",
        "\n",
        "#1 Choose a slide layout and add a slide\n",
        "normal_slide_layout = prs.slide_layouts[1]\n",
        "slide = prs.slides.add_slide(normal_slide_layout)\n",
        "\n",
        "#2-1 enter a title, where the 0th of the placeholder is the title\n",
        "second_page_title = slide.shapes.placeholders[0]\n",
        "second_page_title.text_frame.text=\"slide title\"\n",
        "\n",
        "#2-2 Enter title. Access the text attribute.\n",
        "#second_page_title = slide.shapes.title\n",
        "#second_page_title.text = \"slide title\"\n",
        "\n",
        "#3 Enter the text for the slide; the first placeholder is the text input area\n",
        "second_page_body = slide.shapes.placeholders[1]\n",
        "second_page_body.text_frame.text=\"text input 1\"\n",
        "\n",
        "#4 Enter text for slide. add_paragraph can set lebel to make it easier to read\n",
        "tf = second_page_body.text_frame\n",
        "\n",
        "p=tf.add_paragraph()\n",
        "p.text=\"text input 1-2\"\n",
        "p.level = 1\n",
        "\n",
        "p=tf.add_paragraph()\n",
        "p.text=\"text input 2\"\n",
        "p.level = 2\n",
        "\n",
        "p=tf.add_paragraph()\n",
        "p.text=\"text input 3\"\n",
        "p.level = 3\n",
        "\n",
        "p=tf.add_paragraph()\n",
        "p.text=\"text input 4\"\n",
        "p.level = 4\n",
        "\n",
        "p=tf.add_paragraph()\n",
        "p.text=\"text input 5\"\n",
        "p.level = 1\n",
        "\n",
        "p=tf.add_paragraph()\n",
        "p.text=\"text input 6\"\n",
        "p.level = 2\n",
        "\n",
        "#5 Save the file\n",
        "prs.save(\"./auto_made_pptx.pptx\")\n"
      ]
    },
    {
      "cell_type": "code",
      "execution_count": null,
      "id": "54e844a4",
      "metadata": {
        "id": "54e844a4"
      },
      "outputs": [],
      "source": [
        "#3 Slide 3 - Insert text using textbox\n",
        "\n",
        "#1 Choose a slide layout and add a slide\n",
        "blank_slide_layout = prs.slide_layouts[6]\n",
        "slide = prs.slides.add_slide(blank_slide_layout)\n",
        "\n",
        "#2 Set textbox size and insert\n",
        "left = top = Cm(2)\n",
        "width = Cm(20)\n",
        "height = Cm(10)\n",
        "txBox = slide.shapes.add_textbox(left, top, width, height)\n",
        "\n",
        "#3 Insert text in textbox1\n",
        "tf = txBox.text_frame\n",
        "tf.text = \"Insert text in textbox\\n line breaks are also possible\"\n",
        "\n",
        "#4 Insert text in text box2\n",
        "p = tf.add_paragraph()\n",
        "p.text = \"Insert sentence in text box (bold)\"\n",
        "p.font.bold = True\n",
        "\n",
        "#5 Insert text in text box3\n",
        "p = tf.add_paragraph()\n",
        "p.text = \"Insert sentence in text box\\n (font size large)\"\n",
        "p.font.size = Pt(40)\n",
        "\n",
        "#6 Save the file\n",
        "prs.save(\"./auto_made_pptx.pptx\")\n"
      ]
    },
    {
      "cell_type": "code",
      "execution_count": null,
      "id": "9f65957a",
      "metadata": {
        "id": "9f65957a"
      },
      "outputs": [],
      "source": [
        "#4 Slide 4 - Inserting an image\n",
        "\n",
        "#1 Choose a slide layout and add a slide\n",
        "blank_slide_layout = prs.slide_layouts[6]\n",
        "slide = prs.slides.add_slide(blank_slide_layout)\n",
        "\n",
        "#2 Path of image to insert\n",
        "img_path = \"./image_example.jpg\"\n",
        "\n",
        "#3 Insert image1\n",
        "left = top = Cm(0)\n",
        "pic = slide.shapes.add_picture(img_path, left, top)\n",
        "\n",
        "#4 Insert image 2\n",
        "left = Cm(15)\n",
        "top = Cm(2)\n",
        "height = Cm(5)\n",
        "pic = slide.shapes.add_picture(img_path, left, top, height=height)\n",
        "\n",
        "#5 Save the file\n",
        "prs.save(\"./auto_made_pptx.pptx\")\n"
      ]
    },
    {
      "cell_type": "code",
      "execution_count": null,
      "id": "372057d4",
      "metadata": {
        "id": "372057d4"
      },
      "outputs": [],
      "source": [
        "#5 Slide 5 - Inserting an AutoShape\n",
        "\n",
        "#1 Choose a slide layout and add a slide\n",
        "blank_slide_layout = prs.slide_layouts[6]\n",
        "slide = prs.slides.add_slide(blank_slide_layout)\n",
        "\n",
        "#2 Set the AutoShape to insert\n",
        "left = Cm(2)\n",
        "top = Cm(5)\n",
        "width = Cm(5)\n",
        "height = Cm(2)\n",
        "\n",
        "#3 Insert an AutoShape\n",
        "shape = slide.shapes.add_shape(MSO_SHAPE.PENTAGON, left, top, width, height)\n",
        "shape.text = \"Step 1\"\n",
        "\n",
        "#4 Sequential insertion of AutoShapes\n",
        "for n in range(2, 4):\n",
        "    left = left + width\n",
        "    shape = slide.shapes.add_shape(MSO_SHAPE.CHEVRON, left, top, width, height)\n",
        "    shape.text= \"Step %d\" %n\n",
        "\n",
        "#5 Save the file    \n",
        "prs.save(\"./auto_made_pptx.pptx\")\n"
      ]
    },
    {
      "cell_type": "code",
      "execution_count": null,
      "id": "ec4e6077",
      "metadata": {
        "id": "ec4e6077"
      },
      "outputs": [],
      "source": [
        "#6 Slide 6 - Inserting a TABLE\n",
        "\n",
        "#1 Choose a slide layout and add a slide\n",
        "title_only_slide_layout = prs.slide_layouts[6]\n",
        "slide = prs.slides.add_slide(title_only_slide_layout)\n",
        "\n",
        "\n",
        "#2 Configure the table and set the size\n",
        "rows = cols = 3\n",
        "left = top = Cm(8)\n",
        "width = Cm(8)\n",
        "height = Cm(8)\n",
        "\n",
        "#3 Create and size the table\n",
        "table = slide.shapes.add_table(rows, cols, left, top, width, height).table\n",
        "table.columns[0].width = Cm(2)\n",
        "table.columns[1].width = Cm(1.5)\n",
        "\n",
        "#4 Setting values in a table\n",
        "table.cell(0,0).text = \"Cell1\"\n",
        "table.cell(0,1).text = \"Cell2\"\n",
        "\n",
        "table.cell(1,0).text = \"200\"\n",
        "table.cell(1,1).text = \"100\"\n",
        "\n",
        "#5 Save the file\n",
        "prs.save(\"./auto_made_pptx.pptx\")\n"
      ]
    },
    {
      "cell_type": "code",
      "execution_count": null,
      "id": "40785101",
      "metadata": {
        "id": "40785101"
      },
      "outputs": [],
      "source": [
        "#7 Slide 7 - Inserting a CHART\n",
        "\n",
        "#1 Choose a slide layout and add a slide\n",
        "title_only_slide_layout = prs.slide_layouts[5]\n",
        "slide = prs.slides.add_slide(title_only_slide_layout)\n",
        "slide.shapes.title.text = \"Insert chart (figure)\"\n",
        "\n",
        "#2 Generate data to be drawn on a chart\n",
        "chart_data = CategoryChartData()\n",
        "chart_data.categories = [\"east\", \"west\", \"midwest\"]\n",
        "chart_data.add_series(\"Series 1\", (19.2, 21.4, 16.7))\n",
        "\n",
        "#3 Chart setup and chart generation\n",
        "x, y, cx, cy = Cm(5), Cm(5), Cm(15), Cm(13.5)\n",
        "slide.shapes.add_chart(XL_CHART_TYPE.COLUMN_CLUSTERED, x, y, cx, cy, chart_data)\n",
        "\n",
        "#4 Save the file\n",
        "prs.save(\"./auto_made_pptx.pptx\")\n"
      ]
    },
    {
      "cell_type": "code",
      "execution_count": null,
      "id": "ec7611d7",
      "metadata": {
        "id": "ec7611d7"
      },
      "outputs": [],
      "source": [
        "#7 Slide 7 - Inserting a CHART\n",
        "\n",
        "#1 Choose a slide layout and add a slide\n",
        "title_only_slide_layout = prs.slide_layouts[5]\n",
        "slide = prs.slides.add_slide(title_only_slide_layout)\n",
        "slide.shapes.title.text = \"Insert chart (figure)\"\n",
        "\n",
        "#2 Generate data to be drawn on a chart\n",
        "chart_data = CategoryChartData()\n",
        "chart_data.categories = [\"east\", \"west\", \"midwest\"]\n",
        "chart_data.add_series(\"Series 1\", (19.2, 21.4, 16.7))\n",
        "\n",
        "#3 Chart setup and chart generation\n",
        "x, y, cx, cy = Cm(5), Cm(5), Cm(15), Cm(13.5)\n",
        "slide.shapes.add_chart(XL_CHART_TYPE.COLUMN_CLUSTERED, x, y, cx, cy, chart_data)\n",
        "\n",
        "#4 Save the file\n",
        "prs.save(\"./auto_made_pptx.pptx\")\n"
      ]
    },
    {
      "cell_type": "code",
      "execution_count": null,
      "id": "75d549cc",
      "metadata": {
        "id": "75d549cc"
      },
      "outputs": [],
      "source": [
        "#9 Slide 9 - Insert CHART 3\n",
        "\n",
        "#1 Choose a slide layout and add a slide\n",
        "title_only_slide_layout = prs.slide_layouts[5]\n",
        "slide = prs.slides.add_slide(title_only_slide_layout)\n",
        "slide.shapes.title.text = \"Insert chart (figure) 3\"\n",
        "\n",
        "#2 Generate data to be drawn on the chart\n",
        "chart_data = XyChartData()\n",
        "\n",
        "series_1 = chart_data.add_series('Model 1')\n",
        "series_1.add_data_point(0.7, 2.7)\n",
        "series_1.add_data_point(1.8, 3.2)\n",
        "series_1.add_data_point(2.6, 0.8)\n",
        "\n",
        "series_2 = chart_data.add_series('Model 2')\n",
        "series_2.add_data_point(1.3, 3.7)\n",
        "series_2.add_data_point(2.7, 2.3)\n",
        "series_2.add_data_point(1.6, 1.8)\n",
        "\n",
        "#3 Creating a chart\n",
        "chart = slide.shapes.add_chart(\n",
        "    XL_CHART_TYPE.XY_SCATTER, x, y, cx, cy, chart_data\n",
        ").chart\n",
        "\n",
        "#4 Save the file\n",
        "prs.save(\"./auto_made_pptx.pptx\")\n"
      ]
    },
    {
      "cell_type": "code",
      "execution_count": null,
      "id": "fd6a0772",
      "metadata": {
        "id": "fd6a0772"
      },
      "outputs": [],
      "source": [
        "#10 Slide 10 - Insert CHART 4\n",
        "\n",
        "#1 Choose a slide layout and add a slide\n",
        "title_only_slide_layout = prs.slide_layouts[5]\n",
        "slide = prs.slides.add_slide(title_only_slide_layout)\n",
        "slide.shapes.title.text = \"Insert chart (figure) 4\"\n",
        "\n",
        "#2 Generate data to be drawn on the chart\n",
        "chart_data = ChartData()\n",
        "chart_data.categories=[\"east\", \"west\", \"midwest\"]\n",
        "chart_data.add_series(\"Q1 Sales\", (19.2, 21.4, 16.7))\n",
        "chart_data.add_series(\"Q2 Sales\", (22.3, 28.6, 15.2))\n",
        "chart_data.add_series(\"Q3 Sales\", (20.4, 26.3, 14.2))\n",
        "\n",
        "#3 Generate chart\n",
        "graphic_frame = slide.shapes.add_chart(XL_CHART_TYPE.COLUMN_CLUSTERED, x, y, cx, cy, chart_data)\n",
        "chart = graphic_frame.chart\n",
        "\n",
        "#4 Set up axes, etc.\n",
        "category_axis = chart.category_axis\n",
        "category_axis.has_major_gridlines = True\n",
        "category_axis.minor_tick_mark = XL_TICK_MARK.OUTSIDE\n",
        "category_axis.tick_labels.font.italic = True\n",
        "category_axis.tick_labels.font.size = Pt(24)\n",
        "\n",
        "value_axis = chart.value_axis\n",
        "value_axis.maximum_scale = 50.0\n",
        "value_axis.minor_tick_mark = XL_TICK_MARK.OUTSIDE\n",
        "value_axis.has_minor_gridlines = True\n",
        "\n",
        "tick_labels = value_axis.tick_labels\n",
        "tick_labels.number_format = '0\"%\"'\n",
        "tick_labels.font.bold = True\n",
        "tick_labels.font.size = Pt(14)\n",
        "\n",
        "#5 Save the file\n",
        "prs.save(\"./auto_made_pptx.pptx\")\n"
      ]
    },
    {
      "cell_type": "code",
      "execution_count": null,
      "id": "c4c47d71",
      "metadata": {
        "id": "c4c47d71"
      },
      "outputs": [],
      "source": [
        "#11 Slide 11 - Insert CHART 5\n",
        "\n",
        "#1 Choose a slide layout and add a slide\n",
        "title_only_slide_layout = prs.slide_layouts[5]\n",
        "slide = prs.slides.add_slide(title_only_slide_layout)\n",
        "slide.shapes.title.text = \"Insert chart (figure) 5\"\n",
        "\n",
        "#2 Generate data to be drawn on the chart\n",
        "chart_data = ChartData()\n",
        "chart_data.categories=[\"east\", \"west\", \"midwest\"]\n",
        "chart_data.add_series(\"Q1 Sales\", (19.2, 21.4, 16.7))\n",
        "chart_data.add_series(\"Q2 Sales\", (22.3, 28.6, 15.2))\n",
        "chart_data.add_series(\"Q3 Sales\", (20.4, 26.3, 14.2))\n",
        "\n",
        "#3 Generate chart\n",
        "graphic_frame = slide.shapes.add_chart(XL_CHART_TYPE.COLUMN_CLUSTERED, x, y, cx, cy, chart_data)\n",
        "chart = graphic_frame.chart\n",
        "\n",
        "#4 Set labels, etc.\n",
        "plot = chart.plots[0]\n",
        "plot.has_data_labels = True\n",
        "data_labels = plot.data_labels\n",
        "\n",
        "data_labels.font.size = Pt(13)\n",
        "data_labels.font.color.rgb = RGBColor(0x0A, 0x42, 0x80)\n",
        "data_labels.position = XL_LABEL_POSITION.INSIDE_END\n",
        "\n",
        "#5 Save the file\n",
        "prs.save(\"./auto_made_pptx.pptx\")\n"
      ]
    },
    {
      "cell_type": "code",
      "execution_count": null,
      "id": "224e657c",
      "metadata": {
        "id": "224e657c"
      },
      "outputs": [],
      "source": [
        "#12 Slide 12 - Insert CHART 6\n",
        "\n",
        "#1 Choose a slide layout and add a slide\n",
        "title_only_slide_layout = prs.slide_layouts[5]\n",
        "slide = prs.slides.add_slide(title_only_slide_layout)\n",
        "slide.shapes.title.text = \"Insert chart (figure) 6\"\n",
        "\n",
        "#2 Generate data to be drawn on the chart\n",
        "chart_data = ChartData()\n",
        "chart_data.categories=[\"east\", \"west\", \"midwest\"]\n",
        "chart_data.add_series(\"Q1 Sales\", (19.2, 21.4, 16.7))\n",
        "chart_data.add_series(\"Q2 Sales\", (22.3, 28.6, 15.2))\n",
        "chart_data.add_series(\"Q3 Sales\", (20.4, 26.3, 14.2))\n",
        "\n",
        "#3 Generate chart\n",
        "graphic_frame = slide.shapes.add_chart(XL_CHART_TYPE.COLUMN_CLUSTERED, x, y, cx, cy, chart_data)\n",
        "chart = graphic_frame.chart\n",
        "\n",
        "#4 Set the legend\n",
        "chart.has_legend = True\n",
        "chart.legend.position = XL_LEGEND_POSITION.RIGHT\n",
        "chart.legend.include_in_layout = False\n",
        "\n",
        "#5 Save the file\n",
        "prs.save(\"./auto_made_pptx.pptx\")\n"
      ]
    },
    {
      "cell_type": "code",
      "execution_count": null,
      "id": "b62e284f",
      "metadata": {
        "id": "b62e284f"
      },
      "outputs": [],
      "source": [
        "#13 Slide 13 - Insert CHART 7\n",
        "\n",
        "#1 Choose a slide layout and add a slide\n",
        "title_only_slide_layout = prs.slide_layouts[5]\n",
        "slide = prs.slides.add_slide(title_only_slide_layout)\n",
        "slide.shapes.title.text = \"Insert chart (figure) 7\"\n",
        "\n",
        "#2 Generate data to be drawn on the chart\n",
        "chart_data = ChartData()\n",
        "chart_data.categories = ['Q1 Sales', 'Q2 Sales', 'Q3 Sales']\n",
        "chart_data.add_series('West', (32.2, 28.4, 34.7))\n",
        "chart_data.add_series('East', (24.3, 30.6, 20.2))\n",
        "chart_data.add_series('Midwest', (20.4, 18.3, 26.2))\n",
        "\n",
        "#3 Generating a chart\n",
        "x, y, cx, cy = Inches(2), Inches(2), Inches(6), Inches(4.5)\n",
        "chart = slide.shapes.add_chart(\n",
        "    XL_CHART_TYPE.LINE, x, y, cx, cy, chart_data\n",
        ").chart\n",
        "\n",
        "chart.has_legend = True\n",
        "chart.legend.include_in_layout = False\n",
        "chart.series[0].smooth = True\n",
        "\n",
        "#4 Save the file\n",
        "prs.save(\"./auto_made_pptx.pptx\")\n"
      ]
    },
    {
      "cell_type": "markdown",
      "id": "32d1c1dd",
      "metadata": {
        "id": "32d1c1dd"
      },
      "source": [
        "# Create Graphs from data and convert to pdf"
      ]
    },
    {
      "cell_type": "code",
      "execution_count": null,
      "id": "fb47726e",
      "metadata": {
        "id": "fb47726e"
      },
      "outputs": [],
      "source": [
        "#Prepare slide 14 - data generation\n",
        "\n",
        "test_df = pd.DataFrame({'week_1': [120, 132, 140],\n",
        "                    'week_2': [130, 131, 130],\n",
        "                    'week_3': [140, 130, 128]},\n",
        "                   index=['goods1', 'goods2', 'goods3'])\n",
        "test_df.to_csv(\"test_df.csv\")\n"
      ]
    },
    {
      "cell_type": "code",
      "execution_count": null,
      "id": "54407e59",
      "metadata": {
        "id": "54407e59"
      },
      "outputs": [],
      "source": [
        "#14 Slide 14 - Inserting a CHART 8 (loading data)\n",
        "\n",
        "#1 Reading in data\n",
        "graph_df = pd.read_csv(\"test_df.csv\", index_col=0)\n",
        "\n",
        "#2 Choose slide layout and add slides\n",
        "title_only_slide_layout = prs.slide_layouts[5]\n",
        "slide = prs.slides.add_slide(title_only_slide_layout)\n",
        "slide.shapes.title.text = \"Insert chart (figure) 8\"\n",
        "\n",
        "#3 Generate data to be drawn on a chart\n",
        "chart_data = ChartData()\n",
        "chart_data.categories = ['week_1', 'week_2', 'week_3']\n",
        "chart_data.add_series('goods1 Sales', (graph_df.loc[\"goods1\", \"week_1\"], graph_df.loc[\"goods1\", \"week_2\"], graph_df.loc[\"goods1\", \"week_3\"]))\n",
        "chart_data.add_series('goods2 Sales', (graph_df.loc[\"goods2\", \"week_1\"], graph_df.loc[\"goods2\", \"week_2\"], graph_df.loc[\"goods2\", \"week_3\"]))\n",
        "chart_data.add_series('goods3 Sales', (graph_df.loc[\"goods3\", \"week_1\"], graph_df.loc[\"goods3\", \"week_2\"], graph_df.loc[\"goods3\", \"week_3\"]))\n",
        "\n",
        "#4 Generate chart\n",
        "x, y, cx, cy = Inches(2), Inches(2), Inches(6), Inches(4.5)\n",
        "chart = slide.shapes.add_chart(XL_CHART_TYPE.LINE, x, y, cx, cy, chart_data).chart\n",
        "\n",
        "chart.has_legend = True\n",
        "chart.legend.include_in_layout = False\n",
        "chart.series[0].smooth = True\n",
        "\n",
        "#5 Save the file\n",
        "prs.save(\"./auto_made_pptx.pptx\")\n"
      ]
    },
    {
      "cell_type": "code",
      "execution_count": null,
      "id": "e180b018",
      "metadata": {
        "id": "e180b018",
        "outputId": "032a82e8-60c6-4416-c8f8-c18bc0ac0203"
      },
      "outputs": [
        {
          "data": {
            "image/png": "[encoded data removed]",
            "text/plain": [
              "<Figure size 640x480 with 1 Axes>"
            ]
          },
          "metadata": {},
          "output_type": "display_data"
        }
      ],
      "source": [
        "#Prepare slide 15 - Generating graph images with matplotlib\n",
        "\n",
        "fig = plt.figure(facecolor=\"white\")\n",
        "ax = fig.add_subplot(111)\n",
        "ax.plot(graph_df.T)\n",
        "\n",
        "labels = list(graph_df.index)\n",
        "ax.legend(labels, loc='upper left', bbox_to_anchor=(1, 1)) \n",
        "ax.grid(axis=\"y\", lw=0.5)\n",
        "\n",
        "fig.savefig(\"test_img.png\",bbox_inches=\"tight\")\n"
      ]
    },
    {
      "cell_type": "code",
      "execution_count": null,
      "id": "3e21e4e1",
      "metadata": {
        "id": "3e21e4e1"
      },
      "outputs": [],
      "source": [
        "#15 slide - insert chart 9 (pasting data in matplotlib)\n",
        "\n",
        "#1 Choose a slide layout and add a slide\n",
        "blank_slide_layout = prs.slide_layouts[5]\n",
        "slide = prs.slides.add_slide(blank_slide_layout)\n",
        "slide.shapes.title.text = \"Insert chart (figure) 9\"\n",
        "\n",
        "#2 Inserting an image\n",
        "img_path = \"./test_img.png\"\n",
        "left = top = Cm(6)\n",
        "pic = slide.shapes.add_picture(img_path, left, top)\n",
        "\n",
        "#3 Save the file\n",
        "prs.save(\"./auto_made_pptx.pptx\")\n"
      ]
    },
    {
      "cell_type": "code",
      "execution_count": null,
      "id": "42de5451",
      "metadata": {
        "id": "42de5451"
      },
      "outputs": [],
      "source": [
        "\n",
        "#1 Prepare to open a Powerpoint application in win32com\n",
        "application = win32com.client.Dispatch('Powerpoint.Application')\n",
        " \n",
        "#2 Specify the file path by converting it from a relative path to an absolute path. win32com requires the use of absolute paths)\n",
        "pptx = os.path.abspath('./auto_made_pptx.pptx')\n",
        "pdf = os.path.abspath('./to_pdf_from_auto_made.pdf')\n",
        " \n",
        "#3 conversion settings\n",
        "read_only = True # Read only\n",
        "title = False # Set the title\n",
        "window = False # Show window\n",
        " \n",
        "#4 Open Powerpoint file and save as PDF\n",
        "presentation = application.Presentations.Open(pptx, read_only, title, window)\n",
        "presentation.SaveAs(pdf, 32) #32 indicates filetype\n",
        " \n",
        "#5 Exit process\n",
        "presentation.close()\n",
        "application.quit()\n",
        "presentation = None\n",
        "application = None\n"
      ]
    },
    {
      "cell_type": "code",
      "execution_count": null,
      "id": "9055466c",
      "metadata": {
        "id": "9055466c"
      },
      "outputs": [],
      "source": []
    },
    {
      "cell_type": "code",
      "execution_count": null,
      "id": "4a8ce1d3",
      "metadata": {
        "id": "4a8ce1d3"
      },
      "outputs": [],
      "source": []
    },
    {
      "cell_type": "code",
      "execution_count": null,
      "id": "f29411c9",
      "metadata": {
        "id": "f29411c9"
      },
      "outputs": [],
      "source": []
    },
    {
      "cell_type": "code",
      "execution_count": null,
      "id": "23ae2117",
      "metadata": {
        "id": "23ae2117"
      },
      "outputs": [],
      "source": []
    }
  ],
  "metadata": {
    "kernelspec": {
      "display_name": "Python 3 (ipykernel)",
      "language": "python",
      "name": "python3"
    },
    "language_info": {
      "codemirror_mode": {
        "name": "ipython",
        "version": 3
      },
      "file_extension": ".py",
      "mimetype": "text/x-python",
      "name": "python",
      "nbconvert_exporter": "python",
      "pygments_lexer": "ipython3",
      "version": "3.9.13"
    },
    "colab": {
      "provenance": []
    }
  },
  "nbformat": 4,
  "nbformat_minor": 5
}